{
 "cells": [
  {
   "cell_type": "markdown",
   "id": "5268d0c6",
   "metadata": {},
   "source": [
    "# 🔢 Numpy"
   ]
  },
  {
   "cell_type": "code",
   "execution_count": 272,
   "id": "14a7c52e",
   "metadata": {},
   "outputs": [],
   "source": [
    "import numpy as np\n",
    "import time\n",
    "import matplotlib.pyplot as plt\n",
    "import seaborn as sns\n",
    "\n",
    "np.random.seed(42) # Fixes the values for randomly generated data.\n",
    "\n",
    "sns.set(\n",
    "    style=\"whitegrid\",          \n",
    "    rc={\"figure.figsize\": (6, 4)}  \n",
    ")"
   ]
  },
  {
   "cell_type": "markdown",
   "id": "4c554af4",
   "metadata": {},
   "source": [
    "## 📖 Theory\n",
    "Ndarray = multidimensional arrays which provide *fast array-oriented arithmetics* and *flexible broadcasting capabilities*.\n",
    "\n",
    "Allows fast vectorized array operations.\n",
    "\n",
    "Extremely efficient on large arrays of data because it internally stores data in contigious block of memory. They also use much less memory."
   ]
  },
  {
   "cell_type": "markdown",
   "id": "a2f945e6",
   "metadata": {},
   "source": [
    "## ⌚Performance difference between numpy array and Python lists"
   ]
  },
  {
   "cell_type": "code",
   "execution_count": 6,
   "id": "5efb9816",
   "metadata": {},
   "outputs": [
    {
     "name": "stdout",
     "output_type": "stream",
     "text": [
      "Numpy array took 38.47837448120117 ms to complete the task\n",
      "Python list took 866.0182952880859 ms to complete the task\n"
     ]
    }
   ],
   "source": [
    "def multiplyByTwoNumpy():\n",
    "    my_arr = np.arange(10000000)\n",
    "    time_before_operation = time.time()\n",
    "    my_arr_2 = my_arr * 2 # vectorized operation which happen on the entire array. (No need of loops)\n",
    "    print(f\"Numpy array took {(time.time() - time_before_operation)*1000} ms to complete the task\")\n",
    "\n",
    "def multiplyByTwoList():\n",
    "    my_arr = list(range(10000000))\n",
    "    time_before_operation = time.time()\n",
    "    my_arr_2 = [x * 2 for x in my_arr]\n",
    "    print(f\"Python list took {(time.time() - time_before_operation)*1000} ms to complete the task\")\n",
    "\n",
    "multiplyByTwoNumpy()\n",
    "multiplyByTwoList()\n"
   ]
  },
  {
   "cell_type": "markdown",
   "id": "9a80d624",
   "metadata": {},
   "source": [
    "## ❓\"Random\" feature of numpy"
   ]
  },
  {
   "cell_type": "markdown",
   "id": "e0962b46",
   "metadata": {},
   "source": [
    " The NumPy Random Module provides functions to *generate random numbers*: integers , floats , samples from distrbutions , and more. Useful for *simulations, testing and ML initialization*."
   ]
  },
  {
   "cell_type": "code",
   "execution_count": 47,
   "id": "04a20b53",
   "metadata": {},
   "outputs": [
    {
     "name": "stdout",
     "output_type": "stream",
     "text": [
      "0.4065199163762486\n",
      "-----------------------------------------------\n",
      "[[0.46894025 0.26923558 0.29179277]\n",
      " [0.4576864  0.86053391 0.5862529 ]]\n"
     ]
    }
   ],
   "source": [
    "print(np.random.rand()) # random float between [0,1).\n",
    "print(\"-----------------------------------------------\")\n",
    "print(np.random.rand(2,3)) # creates a 2 x 3 matrix."
   ]
  },
  {
   "cell_type": "code",
   "execution_count": null,
   "id": "482bddcb",
   "metadata": {},
   "outputs": [
    {
     "name": "stdout",
     "output_type": "stream",
     "text": [
      "[2 3 1 5 1]\n",
      "------------------------------------------------\n",
      "[[8 1 1]\n",
      " [2 2 6]]\n"
     ]
    },
    {
     "data": {
      "text/plain": [
       "array([[1, 3, 1, 5, 7],\n",
       "       [1, 2, 3, 4, 5]])"
      ]
     },
     "execution_count": 124,
     "metadata": {},
     "output_type": "execute_result"
    }
   ],
   "source": [
    "print(np.random.randint(1, 10, 5)) # creates a 1D array with elements 1->9 of len 5.\n",
    "print(\"------------------------------------------------\")\n",
    "print(np.random.randint(1, 10, (2,3))) # creates a 2x3 matrix.\n"
   ]
  },
  {
   "cell_type": "code",
   "execution_count": null,
   "id": "c1cb1ccb",
   "metadata": {},
   "outputs": [
    {
     "name": "stdout",
     "output_type": "stream",
     "text": [
      "[-0.18330409  0.3050598   1.51568847]\n",
      "--------------------------------------\n",
      "\n",
      "[[-0.90987231  3.18937146 -0.35647359 -1.43992989]\n",
      " [ 0.39014283 -0.53965906 -1.99139901  1.14576499]\n",
      " [ 0.24342141  1.5467417  -0.21941362 -0.99450663]\n",
      " [-1.158662   -1.27055774  0.57156368  0.38106529]\n",
      " [-0.93666508 -0.5952576   1.35816371  0.38792939]\n",
      " [ 1.09095673  0.38378993  0.75614904  0.17088587]\n",
      " [-2.30728252  1.04651988 -0.26743478 -0.19158513]]\n",
      "--------------------------------------\n",
      "\n",
      "[ 9.0765099   9.85942242  8.34238848 13.41495746 10.17806823]\n",
      "--------------------------------------\n",
      "\n",
      "[[ 8.64011131  8.53114359  9.1803686 ]\n",
      " [11.04896958 13.67711361  9.01179736]]\n"
     ]
    }
   ],
   "source": [
    "print(np.random.randn(3)) # 1D array of normally distributed elements (mean = 0, std = 1)\n",
    "print('--------------------------------------\\n')\n",
    "print(np.random.randn(7, 4)) # matrix of (7,4) \n",
    "print('--------------------------------------\\n')\n",
    "print(np.random.normal(10, 2, 5)) # 1D, 5 elements, mean = 10, std = 2\n",
    "print('--------------------------------------\\n')\n",
    "print(np.random.normal(10, 2, (2,3))) # 1D, (2,3), mean = 10, std = 2"
   ]
  },
  {
   "cell_type": "code",
   "execution_count": 278,
   "id": "dfa73456",
   "metadata": {},
   "outputs": [
    {
     "data": {
      "image/png": "[encoded data removed]",
      "text/plain": [
       "<Figure size 600x400 with 1 Axes>"
      ]
     },
     "metadata": {},
     "output_type": "display_data"
    },
    {
     "data": {
      "image/png": "[encoded data removed]",
      "text/plain": [
       "<Figure size 600x400 with 1 Axes>"
      ]
     },
     "metadata": {},
     "output_type": "display_data"
    }
   ],
   "source": [
    "# Visiualizing the above graphs\n",
    "plt.title(\"np.random.rand(1000)\") # 1000 elements normally distributed (m = 0, std = 1)\n",
    "sns.histplot(np.random.randn(10000), kde = True)\n",
    "plt.show()\n",
    "\n",
    "plt.title(\"np.random.randn(10, 2, 10000)\") # 1000 elements normally distributed (m = 0, std = 1)\n",
    "sns.histplot(np.random.normal(10, 2, 10000), kde = True)\n",
    "plt.show()"
   ]
  },
  {
   "cell_type": "code",
   "execution_count": 129,
   "id": "d7aa7620",
   "metadata": {},
   "outputs": [
    {
     "name": "stdout",
     "output_type": "stream",
     "text": [
      "[5 4 2 3 1]\n",
      "---------------------------\n",
      "\n",
      "[[ 6  7  8  9 10]\n",
      " [ 1  2  3  4  5]]\n"
     ]
    }
   ],
   "source": [
    "# np.random.shuffle(arr/matrix) => Randomly shuffles the whole array/matrix.\n",
    "arr = np.array([1, 2, 3, 4, 5])\n",
    "np.random.shuffle(arr)\n",
    "print(arr)\n",
    "print('---------------------------\\n')\n",
    "\n",
    "mat = np.array([[1, 2, 3, 4, 5],[6,7,8,9,10]])\n",
    "np.random.shuffle(mat)\n",
    "print(mat)"
   ]
  },
  {
   "cell_type": "markdown",
   "id": "27c06a9c",
   "metadata": {},
   "source": [
    "## 📦 The NumPy ndarray: A multidimensional Array Object for homogenous data."
   ]
  },
  {
   "cell_type": "markdown",
   "id": "de4a846a",
   "metadata": {},
   "source": [
    "#### 🧮 Batch Computations"
   ]
  },
  {
   "cell_type": "code",
   "execution_count": 84,
   "id": "f3584cf1",
   "metadata": {},
   "outputs": [
    {
     "name": "stdout",
     "output_type": "stream",
     "text": [
      "[[ -9.08024076 -14.12303701  14.65648769]\n",
      " [ -2.257763     0.67528205 -14.24748186]]\n",
      "\n",
      "--------------------------------------\n",
      "\n",
      "[[-1.81604815 -2.8246074   2.93129754]\n",
      " [-0.4515526   0.13505641 -2.84949637]]\n"
     ]
    }
   ],
   "source": [
    "data = np.random.randn(2,3)\n",
    "\n",
    "print(data * 10)    \n",
    "print('\\n--------------------------------------\\n') \n",
    "print(data + data)                       "
   ]
  },
  {
   "cell_type": "markdown",
   "id": "8517e104",
   "metadata": {},
   "source": [
    "#### 📐 Every N-D-Array has a shape (a tuple) and a fixed datatype"
   ]
  },
  {
   "cell_type": "code",
   "execution_count": 86,
   "id": "3dffde9a",
   "metadata": {},
   "outputs": [
    {
     "name": "stdout",
     "output_type": "stream",
     "text": [
      "(2, 3)\n",
      "float64\n"
     ]
    }
   ],
   "source": [
    "print(data.shape)\n",
    "print(data.dtype)"
   ]
  },
  {
   "cell_type": "markdown",
   "id": "2b3da897",
   "metadata": {},
   "source": [
    "#### 🛠️ Creating ndArrays"
   ]
  },
  {
   "cell_type": "code",
   "execution_count": null,
   "id": "76a3b6c0",
   "metadata": {},
   "outputs": [
    {
     "data": {
      "text/plain": [
       "array([6. , 7.5, 8. , 0. , 1. ])"
      ]
     },
     "execution_count": 92,
     "metadata": {},
     "output_type": "execute_result"
    }
   ],
   "source": [
    "# 1D array (arr1.ndim = 1) (ndim = number of dimensions)\n",
    "data1 = [6, 7.5, 8, 0 , 1] # heterogeneous data type.\n",
    "arr1 = np.array(data1)\n",
    "arr1 # gets homogenously converted to priority-wise superior of the two."
   ]
  },
  {
   "cell_type": "code",
   "execution_count": null,
   "id": "9852f56f",
   "metadata": {},
   "outputs": [
    {
     "data": {
      "text/plain": [
       "array([[1, 2, 3],\n",
       "       [4, 5, 6]])"
      ]
     },
     "execution_count": 93,
     "metadata": {},
     "output_type": "execute_result"
    }
   ],
   "source": [
    "# 2D array (arr2.ndim = 2)\n",
    "data2 = [[1, 2, 3], [4, 5, 6]]\n",
    "arr2 = np.array(data2) # Matrix of shape (2,3)\n",
    "arr2"
   ]
  },
  {
   "cell_type": "code",
   "execution_count": 101,
   "id": "24d5f436",
   "metadata": {},
   "outputs": [
    {
     "name": "stdout",
     "output_type": "stream",
     "text": [
      "[0. 0. 0. 0. 0.]\n",
      "\n",
      "--------------------------------------\n",
      "\n",
      "[[0. 0. 0.]\n",
      " [0. 0. 0.]\n",
      " [0. 0. 0.]]\n"
     ]
    }
   ],
   "source": [
    "# Create zero arrays and matrices\n",
    "zeroArr = np.zeros(5) # 1D Array with dtype = float 64.\n",
    "print(zeroArr)\n",
    "print('\\n--------------------------------------\\n')\n",
    "zeroMat = np.zeros((3,3)) # 2D Array (3,3)\n",
    "print(zeroMat)"
   ]
  },
  {
   "cell_type": "code",
   "execution_count": 108,
   "id": "e5a5d01d",
   "metadata": {},
   "outputs": [
    {
     "name": "stdout",
     "output_type": "stream",
     "text": [
      "[1 2 3 4 5 6 7 8 9]\n",
      "-------------------------------------------\n",
      "\n",
      "[[1 2 3]\n",
      " [4 5 6]\n",
      " [7 8 9]]\n"
     ]
    }
   ],
   "source": [
    "# Sorted sequence/matrix of whole numbers\n",
    "arranged = np.arange(1,10) # (start, end{exclusive}, steps) \n",
    "print(arranged)\n",
    "print('-------------------------------------------\\n')\n",
    "print(arranged.reshape(3,3))\n"
   ]
  },
  {
   "cell_type": "code",
   "execution_count": 110,
   "id": "0320504b",
   "metadata": {},
   "outputs": [
    {
     "name": "stdout",
     "output_type": "stream",
     "text": [
      "[1. 1. 1. 1. 1.]\n",
      "--------------------------------------\n",
      "\n",
      "[[1. 1. 1.]\n",
      " [1. 1. 1.]\n",
      " [1. 1. 1.]]\n"
     ]
    }
   ],
   "source": [
    "# Create ones arrays and matrices\n",
    "oneArr = np.ones(5) # 1D Array with dtype = float 64.\n",
    "print(oneArr)\n",
    "print('--------------------------------------\\n')\n",
    "oneMat = np.ones((3,3)) # 2D Array (3,3)\n",
    "print(oneMat)"
   ]
  },
  {
   "cell_type": "markdown",
   "id": "ab17e91e",
   "metadata": {},
   "source": [
    "#### 📊 Data Types of N-D-Arrays "
   ]
  },
  {
   "cell_type": "code",
   "execution_count": 116,
   "id": "a14416fd",
   "metadata": {},
   "outputs": [
    {
     "name": "stdout",
     "output_type": "stream",
     "text": [
      "[1. 2. 3.] float32\n",
      "[ 3 -1 -2  0 12 10] int32\n"
     ]
    }
   ],
   "source": [
    "arr1 = np.array([1,2,3], np.float32)\n",
    "print(arr1, arr1.dtype)\n",
    "\n",
    "arr2 = np.array([3.7, -1.2, -2.6, 0.5, 12.9, 10.1])\n",
    "arr2_int = arr2.astype(np.int32) # Explicit type conversion\n",
    "print(arr2_int, arr2_int.dtype)\n"
   ]
  },
  {
   "cell_type": "markdown",
   "id": "359cf7fe",
   "metadata": {},
   "source": [
    "#### 📏 Arithmetic with NumPy Arrays"
   ]
  },
  {
   "cell_type": "code",
   "execution_count": 130,
   "id": "3fc28ef2",
   "metadata": {},
   "outputs": [
    {
     "data": {
      "text/plain": [
       "array([[1., 2., 3.],\n",
       "       [4., 5., 6.]])"
      ]
     },
     "execution_count": 130,
     "metadata": {},
     "output_type": "execute_result"
    }
   ],
   "source": [
    "arr = np.array([[1., 2., 3.], [4., 5., 6.]])\n",
    "arr"
   ]
  },
  {
   "cell_type": "code",
   "execution_count": 131,
   "id": "1d362793",
   "metadata": {},
   "outputs": [
    {
     "data": {
      "text/plain": [
       "array([[ 1.,  4.,  9.],\n",
       "       [16., 25., 36.]])"
      ]
     },
     "execution_count": 131,
     "metadata": {},
     "output_type": "execute_result"
    }
   ],
   "source": [
    "arr * arr"
   ]
  },
  {
   "cell_type": "code",
   "execution_count": 132,
   "id": "d73d10ce",
   "metadata": {},
   "outputs": [
    {
     "data": {
      "text/plain": [
       "array([[0., 0., 0.],\n",
       "       [0., 0., 0.]])"
      ]
     },
     "execution_count": 132,
     "metadata": {},
     "output_type": "execute_result"
    }
   ],
   "source": [
    "arr - arr"
   ]
  },
  {
   "cell_type": "code",
   "execution_count": 133,
   "id": "bea4e3d7",
   "metadata": {},
   "outputs": [
    {
     "data": {
      "text/plain": [
       "array([[1.        , 0.5       , 0.33333333],\n",
       "       [0.25      , 0.2       , 0.16666667]])"
      ]
     },
     "execution_count": 133,
     "metadata": {},
     "output_type": "execute_result"
    }
   ],
   "source": [
    "1 / arr"
   ]
  },
  {
   "cell_type": "code",
   "execution_count": 134,
   "id": "68acfa12",
   "metadata": {},
   "outputs": [
    {
     "data": {
      "text/plain": [
       "array([[1.        , 1.41421356, 1.73205081],\n",
       "       [2.        , 2.23606798, 2.44948974]])"
      ]
     },
     "execution_count": 134,
     "metadata": {},
     "output_type": "execute_result"
    }
   ],
   "source": [
    "arr ** 0.5"
   ]
  },
  {
   "cell_type": "code",
   "execution_count": 135,
   "id": "3962cdcd",
   "metadata": {},
   "outputs": [
    {
     "data": {
      "text/plain": [
       "array([[False,  True, False],\n",
       "       [ True, False,  True]])"
      ]
     },
     "execution_count": 135,
     "metadata": {},
     "output_type": "execute_result"
    }
   ],
   "source": [
    "# Comparision between 2 arrays of sae size yields boolean arrays\n",
    "arr2 = np.array([[0., 4., 1.], [7., 2., 12.]])\n",
    "arr2 > arr "
   ]
  },
  {
   "cell_type": "markdown",
   "id": "42c0df0b",
   "metadata": {},
   "source": [
    "#### 🪓 Basic Indexing and Slicing"
   ]
  },
  {
   "cell_type": "markdown",
   "id": "2a8433da",
   "metadata": {},
   "source": [
    "*array[start : stop : step]* => 1D {stop is enclusive}\n",
    "\n",
    "*array[row_start : row_stop : row_step, col_start : col_stop : col_step]* => 2D (there can also be a boolean expression either in the row or the column parameters)\n",
    "\n",
    "{row_stop and col_stop is exclusive}"
   ]
  },
  {
   "cell_type": "markdown",
   "id": "aef77c10",
   "metadata": {},
   "source": [
    "##### Slicing of 1D array"
   ]
  },
  {
   "cell_type": "code",
   "execution_count": null,
   "id": "6e3ad9e3",
   "metadata": {},
   "outputs": [
    {
     "data": {
      "text/plain": [
       "array([0, 1, 2, 3, 4, 5, 6, 7, 8, 9])"
      ]
     },
     "execution_count": 173,
     "metadata": {},
     "output_type": "execute_result"
    }
   ],
   "source": [
    "arr = np.arange(10)\n",
    "arr"
   ]
  },
  {
   "cell_type": "code",
   "execution_count": 174,
   "id": "1ac1f475",
   "metadata": {},
   "outputs": [
    {
     "data": {
      "text/plain": [
       "5"
      ]
     },
     "execution_count": 174,
     "metadata": {},
     "output_type": "execute_result"
    }
   ],
   "source": [
    "arr[5]"
   ]
  },
  {
   "cell_type": "code",
   "execution_count": 175,
   "id": "fc6c5a31",
   "metadata": {},
   "outputs": [
    {
     "data": {
      "text/plain": [
       "array([5, 6, 7])"
      ]
     },
     "execution_count": 175,
     "metadata": {},
     "output_type": "execute_result"
    }
   ],
   "source": [
    "arr[5:8] # gives 8 - 5 = 3 elements {5, 6, 7}"
   ]
  },
  {
   "cell_type": "code",
   "execution_count": null,
   "id": "17a77990",
   "metadata": {},
   "outputs": [
    {
     "data": {
      "text/plain": [
       "array([ 0,  1,  2,  3,  4, 12, 12, 12,  8,  9])"
      ]
     },
     "execution_count": 176,
     "metadata": {},
     "output_type": "execute_result"
    }
   ],
   "source": [
    "arr[5:8] = 12\n",
    "arr\n",
    "# if you assign a scalar value to a slice, as in arr[5:8] = 12, the value is propagated (or broadcasted henceforth) to the entire selection."
   ]
  },
  {
   "cell_type": "markdown",
   "id": "e330c479",
   "metadata": {},
   "source": [
    " An important distinction between python lists and numpy arrays are that *sliced sub-arrays of a numpy array is a view of the original array, i.e, any change in the sub-array alters the original array*."
   ]
  },
  {
   "cell_type": "code",
   "execution_count": 192,
   "id": "1cc0db5c",
   "metadata": {},
   "outputs": [],
   "source": [
    "# Use the copy method to create a copy\n",
    "a = np.array([1, 2, 3])\n",
    "b = a          # just a reference (changes in b affects a)\n",
    "c = a.copy()   # independent copy (changes in c does not affect a)\n",
    "\n",
    "b[0] = 10\n",
    "c[1] = 20"
   ]
  },
  {
   "cell_type": "code",
   "execution_count": 180,
   "id": "c81e504c",
   "metadata": {},
   "outputs": [
    {
     "data": {
      "text/plain": [
       "array([ 0,  1, 99,  1,  1,  5,  6,  7,  8,  9])"
      ]
     },
     "execution_count": 180,
     "metadata": {},
     "output_type": "execute_result"
    }
   ],
   "source": [
    "sample = np.arange(10) \n",
    "sample[2:5] = 1\n",
    "sub_sample = sample[2:5] # [1,1,1]\n",
    "sub_sample[0] = 99\n",
    "sample"
   ]
  },
  {
   "cell_type": "code",
   "execution_count": 183,
   "id": "cb4daf23",
   "metadata": {},
   "outputs": [
    {
     "data": {
      "text/plain": [
       "array([20, 20, 20, 20, 20])"
      ]
     },
     "execution_count": 183,
     "metadata": {},
     "output_type": "execute_result"
    }
   ],
   "source": [
    "# The bare slice will assign to all the array\n",
    "sample2 = np.arange(5)\n",
    "sample2[:] = 20\n",
    "sample2"
   ]
  },
  {
   "cell_type": "markdown",
   "id": "9e44f2a9",
   "metadata": {},
   "source": [
    "##### Slicing of 2D arrays"
   ]
  },
  {
   "cell_type": "code",
   "execution_count": 184,
   "id": "93e3f193",
   "metadata": {},
   "outputs": [
    {
     "data": {
      "text/plain": [
       "array([4, 5, 6])"
      ]
     },
     "execution_count": 184,
     "metadata": {},
     "output_type": "execute_result"
    }
   ],
   "source": [
    "arr2d = np.array([[1,2,3], [4,5,6], [7,8,9]])\n",
    "arr2d[1]"
   ]
  },
  {
   "cell_type": "code",
   "execution_count": null,
   "id": "a4cc408f",
   "metadata": {},
   "outputs": [
    {
     "data": {
      "text/plain": [
       "2"
      ]
     },
     "execution_count": 185,
     "metadata": {},
     "output_type": "execute_result"
    }
   ],
   "source": [
    "arr2d[0][1] # arr2d[0,1]"
   ]
  },
  {
   "cell_type": "code",
   "execution_count": null,
   "id": "456374cb",
   "metadata": {},
   "outputs": [
    {
     "data": {
      "text/plain": [
       "array([[1, 2, 3],\n",
       "       [4, 5, 6]])"
      ]
     },
     "execution_count": 193,
     "metadata": {},
     "output_type": "execute_result"
    }
   ],
   "source": [
    "arr2d[: 2] # arr2d[0:2:1, 0:3:1] "
   ]
  },
  {
   "cell_type": "code",
   "execution_count": 194,
   "id": "dc434f4e",
   "metadata": {},
   "outputs": [
    {
     "data": {
      "text/plain": [
       "array([[2, 3],\n",
       "       [5, 6]])"
      ]
     },
     "execution_count": 194,
     "metadata": {},
     "output_type": "execute_result"
    }
   ],
   "source": [
    "arr2d[:2, 1:] # arr2d[0:2:1, 1:3:1]"
   ]
  },
  {
   "cell_type": "code",
   "execution_count": null,
   "id": "426ed54b",
   "metadata": {},
   "outputs": [
    {
     "data": {
      "text/plain": [
       "array([4, 5])"
      ]
     },
     "execution_count": 195,
     "metadata": {},
     "output_type": "execute_result"
    }
   ],
   "source": [
    "arr2d[1, :2] # arr2d[1, 0:2:1] {Just row index = 1, col 0 and 1}"
   ]
  },
  {
   "cell_type": "markdown",
   "id": "070e0e55",
   "metadata": {},
   "source": [
    "#### 💭 Boolean Indexing\n"
   ]
  },
  {
   "cell_type": "markdown",
   "id": "32403615",
   "metadata": {},
   "source": [
    "Selecting data from an array by boolean indexing *always creates a copy of the data*,\n",
    "even if the returned array is unchanged."
   ]
  },
  {
   "cell_type": "code",
   "execution_count": 226,
   "id": "74588439",
   "metadata": {},
   "outputs": [
    {
     "name": "stdout",
     "output_type": "stream",
     "text": [
      "[[0 1 2 3 4]\n",
      " [5 6 7 8 9]]\n",
      "-------------------\n",
      "\n",
      "[[False  True False False False]\n",
      " [False False False False False]]\n",
      "-------------------\n",
      "\n",
      "[1]\n"
     ]
    }
   ],
   "source": [
    "integer = np.arange(10).reshape(2,5)\n",
    "condition = integer == 1\n",
    "print(integer)\n",
    "print('-------------------\\n')\n",
    "print(condition)\n",
    "print('-------------------\\n')\n",
    "print(integer[condition])"
   ]
  },
  {
   "cell_type": "code",
   "execution_count": null,
   "id": "938fa79b",
   "metadata": {},
   "outputs": [
    {
     "data": {
      "text/plain": [
       "array(['Bob', 'Joe', 'Will', 'Bob', 'Will', 'Joe', 'Joe'], dtype='<U4')"
      ]
     },
     "execution_count": 199,
     "metadata": {},
     "output_type": "execute_result"
    }
   ],
   "source": [
    "names = np.array(['Bob', 'Joe', 'Will', 'Bob', 'Will', 'Joe', 'Joe' ])\n",
    "names\n",
    "# Suppose each word corresponds to a row in the data matrix"
   ]
  },
  {
   "cell_type": "code",
   "execution_count": 201,
   "id": "291a5a2b",
   "metadata": {},
   "outputs": [
    {
     "data": {
      "text/plain": [
       "array([[-0.06706405, -2.05666503,  0.23917196, -0.21399184],\n",
       "       [-1.05107072, -0.82316898,  0.31313814,  0.7097705 ],\n",
       "       [-0.98122351,  0.03116026, -0.40082686, -0.51478689],\n",
       "       [ 0.33877324, -0.24637294, -0.1205141 ,  0.64073562],\n",
       "       [-0.64596713, -0.85457936,  1.50407098,  1.06802066],\n",
       "       [-0.0779158 , -0.83451059,  1.20115444, -0.24373551],\n",
       "       [-0.4249995 ,  1.4041934 , -0.42193846,  0.23250828]])"
      ]
     },
     "execution_count": 201,
     "metadata": {},
     "output_type": "execute_result"
    }
   ],
   "source": [
    "data = np.random.randn(7,4)\n",
    "data"
   ]
  },
  {
   "cell_type": "code",
   "execution_count": 236,
   "id": "b70d77c7",
   "metadata": {},
   "outputs": [
    {
     "name": "stdout",
     "output_type": "stream",
     "text": [
      "[ True False False  True False False False]\n"
     ]
    },
    {
     "data": {
      "text/plain": [
       "array([[-0.06706405, -2.05666503,  0.23917196, -0.21399184],\n",
       "       [ 0.33877324, -0.24637294, -0.1205141 ,  0.64073562]])"
      ]
     },
     "execution_count": 236,
     "metadata": {},
     "output_type": "execute_result"
    }
   ],
   "source": [
    "print(names == 'Bob')\n",
    "data[names == 'Bob'] # prints the 0th and 3rd rows because it is True\n",
    "\n",
    "# In analogy of ML, consider the names as a column vector. It returns a True/False vector of the same dimensions. If we do df[this true, false vector] => We will get all those rows where the cell has True"
   ]
  },
  {
   "cell_type": "code",
   "execution_count": 209,
   "id": "1e2d33e7",
   "metadata": {},
   "outputs": [
    {
     "data": {
      "text/plain": [
       "array([[ 0.23917196, -0.21399184],\n",
       "       [-0.1205141 ,  0.64073562]])"
      ]
     },
     "execution_count": 209,
     "metadata": {},
     "output_type": "execute_result"
    }
   ],
   "source": [
    "data[names == 'Bob', 2:] # get those rows where names == Bob, and columns from 2 to last"
   ]
  },
  {
   "cell_type": "code",
   "execution_count": 211,
   "id": "624dd294",
   "metadata": {},
   "outputs": [
    {
     "data": {
      "text/plain": [
       "array([-0.21399184,  0.64073562])"
      ]
     },
     "execution_count": 211,
     "metadata": {},
     "output_type": "execute_result"
    }
   ],
   "source": [
    "data[names == 'Bob', 3] # get those rows where names == Bob, and index 3 column"
   ]
  },
  {
   "cell_type": "code",
   "execution_count": 215,
   "id": "ffb46f63",
   "metadata": {},
   "outputs": [
    {
     "data": {
      "text/plain": [
       "array([False,  True,  True, False,  True,  True,  True])"
      ]
     },
     "execution_count": 215,
     "metadata": {},
     "output_type": "execute_result"
    }
   ],
   "source": [
    "# Negating a condition\n",
    "condition = ~(names == 'Bob')\n",
    "condition"
   ]
  },
  {
   "cell_type": "code",
   "execution_count": null,
   "id": "b1dbe5a0",
   "metadata": {},
   "outputs": [
    {
     "data": {
      "text/plain": [
       "array([[-1.05107072, -0.82316898,  0.31313814,  0.7097705 ],\n",
       "       [-0.98122351,  0.03116026, -0.40082686, -0.51478689],\n",
       "       [-0.64596713, -0.85457936,  1.50407098,  1.06802066],\n",
       "       [-0.0779158 , -0.83451059,  1.20115444, -0.24373551],\n",
       "       [-0.4249995 ,  1.4041934 , -0.42193846,  0.23250828]])"
      ]
     },
     "execution_count": 216,
     "metadata": {},
     "output_type": "execute_result"
    }
   ],
   "source": [
    "data[condition]"
   ]
  },
  {
   "cell_type": "code",
   "execution_count": 229,
   "id": "5e7d97d2",
   "metadata": {},
   "outputs": [
    {
     "name": "stdout",
     "output_type": "stream",
     "text": [
      "[ True False  True  True  True False False]\n"
     ]
    }
   ],
   "source": [
    "mask = (names == 'Bob') | (names == 'Will')\n",
    "print(mask)"
   ]
  },
  {
   "cell_type": "code",
   "execution_count": 230,
   "id": "7a58ab93",
   "metadata": {},
   "outputs": [
    {
     "data": {
      "text/plain": [
       "array([[-0.06706405, -2.05666503,  0.23917196, -0.21399184],\n",
       "       [-0.98122351,  0.03116026, -0.40082686, -0.51478689],\n",
       "       [ 0.33877324, -0.24637294, -0.1205141 ,  0.64073562],\n",
       "       [-0.64596713, -0.85457936,  1.50407098,  1.06802066]])"
      ]
     },
     "execution_count": 230,
     "metadata": {},
     "output_type": "execute_result"
    }
   ],
   "source": [
    "data[mask]"
   ]
  },
  {
   "cell_type": "code",
   "execution_count": 222,
   "id": "2d4decf8",
   "metadata": {},
   "outputs": [
    {
     "data": {
      "text/plain": [
       "array([[False,  True, False, False, False],\n",
       "       [False, False, False, False, False]])"
      ]
     },
     "execution_count": 222,
     "metadata": {},
     "output_type": "execute_result"
    }
   ],
   "source": [
    "np.arange(10).reshape(2,5) == 1"
   ]
  },
  {
   "cell_type": "code",
   "execution_count": null,
   "id": "48111de1",
   "metadata": {},
   "outputs": [
    {
     "data": {
      "text/plain": [
       "array([-0.21399184,  0.7097705 , -0.51478689,  0.64073562,  1.06802066,\n",
       "       -0.24373551,  0.23250828])"
      ]
     },
     "execution_count": 235,
     "metadata": {},
     "output_type": "execute_result"
    }
   ],
   "source": [
    "data[:, 3]"
   ]
  },
  {
   "cell_type": "code",
   "execution_count": 245,
   "id": "fa6a4b05",
   "metadata": {},
   "outputs": [
    {
     "name": "stdout",
     "output_type": "stream",
     "text": [
      "[[0.         0.         0.23917196 0.        ]\n",
      " [0.         0.         0.31313814 0.7097705 ]\n",
      " [0.         0.03116026 0.         0.        ]\n",
      " [0.33877324 0.         0.         0.64073562]\n",
      " [0.         0.         1.50407098 1.06802066]\n",
      " [0.         0.         1.20115444 0.        ]\n",
      " [0.         1.4041934  0.         0.23250828]]\n",
      "------------------------------------------------------\n",
      "\n",
      "[[False False False False]\n",
      " [False False False False]\n",
      " [False False False False]\n",
      " [False False False False]\n",
      " [False False False False]\n",
      " [False False False False]\n",
      " [False False False False]]\n",
      "------------------------------------------------------\n",
      "\n"
     ]
    },
    {
     "data": {
      "text/plain": [
       "array([[0.        , 0.        , 0.23917196, 0.        ],\n",
       "       [0.        , 0.        , 0.31313814, 0.7097705 ],\n",
       "       [0.        , 0.03116026, 0.        , 0.        ],\n",
       "       [0.33877324, 0.        , 0.        , 0.64073562],\n",
       "       [0.        , 0.        , 1.50407098, 1.06802066],\n",
       "       [0.        , 0.        , 1.20115444, 0.        ],\n",
       "       [0.        , 1.4041934 , 0.        , 0.23250828]])"
      ]
     },
     "execution_count": 245,
     "metadata": {},
     "output_type": "execute_result"
    }
   ],
   "source": [
    "print(data)\n",
    "print('------------------------------------------------------\\n')\n",
    "# Set all negatives = 0\n",
    "condition = data < 0\n",
    "print(condition)\n",
    "print('------------------------------------------------------\\n')\n",
    "data[condition] = 0\n",
    "data"
   ]
  },
  {
   "cell_type": "markdown",
   "id": "7d954633",
   "metadata": {},
   "source": [
    "#### 🔀 Transposing Arrays and Swapping Axes"
   ]
  },
  {
   "cell_type": "code",
   "execution_count": 263,
   "id": "5a0f0f77",
   "metadata": {},
   "outputs": [
    {
     "name": "stdout",
     "output_type": "stream",
     "text": [
      "Original array is:\n",
      " [[ 0  1  2  3  4]\n",
      " [ 5  6  7  8  9]\n",
      " [10 11 12 13 14]]\n",
      "-----------------------------\n",
      "\n",
      "The transpose is:\n",
      " [[ 0  5 10]\n",
      " [ 1  6 11]\n",
      " [ 2  7 12]\n",
      " [ 3  8 13]\n",
      " [ 4  9 14]]\n"
     ]
    }
   ],
   "source": [
    "arr = np.arange(15).reshape(3,5)\n",
    "print(f\"Original array is:\\n {arr}\")\n",
    "print('-----------------------------\\n')\n",
    "print(f\"The transpose is:\\n {arr.T}\")"
   ]
  },
  {
   "cell_type": "code",
   "execution_count": 261,
   "id": "a6cd6d2b",
   "metadata": {},
   "outputs": [
    {
     "data": {
      "text/plain": [
       "array([[ 4.71596707,  2.02327753, -0.05843377, -2.01281194, -4.19328687],\n",
       "       [ 2.02327753,  2.22406203, -0.28729183, -2.67366488, -3.90590849],\n",
       "       [-0.05843377, -0.28729183,  2.70379551,  1.46726917,  2.51644071],\n",
       "       [-2.01281194, -2.67366488,  1.46726917,  3.72518309,  5.44927509],\n",
       "       [-4.19328687, -3.90590849,  2.51644071,  5.44927509,  8.5974002 ]])"
      ]
     },
     "execution_count": 261,
     "metadata": {},
     "output_type": "execute_result"
    }
   ],
   "source": [
    "# Example of dot product of matrices (matrix multiplication)\n",
    "arr = np.random.randn(3,5)\n",
    "\n",
    "np.dot(arr.T, arr)"
   ]
  },
  {
   "cell_type": "markdown",
   "id": "b8aa223b",
   "metadata": {},
   "source": [
    "#### 🌍 Universal functions (Ufuncs)"
   ]
  },
  {
   "cell_type": "code",
   "execution_count": 286,
   "id": "868f2893",
   "metadata": {},
   "outputs": [
    {
     "name": "stdout",
     "output_type": "stream",
     "text": [
      "[0.         1.         1.41421356 1.73205081 2.        ] \n",
      "\n",
      "[ 1.          2.71828183  7.3890561  20.08553692 54.59815003] \n",
      "\n"
     ]
    }
   ],
   "source": [
    "arr = np.arange(5)\n",
    "print(np.sqrt(arr), '\\n')\n",
    "print(np.exp(arr), '\\n')"
   ]
  },
  {
   "cell_type": "code",
   "execution_count": 293,
   "id": "b799b9d4",
   "metadata": {},
   "outputs": [
    {
     "name": "stdout",
     "output_type": "stream",
     "text": [
      "[ 1.93293954  0.02891024  0.1392904  -0.22275588  0.47354025 -0.59465802]\n",
      "[ 0.14388444  1.34856463 -0.3900451  -0.30329978 -0.28090632  0.95796702]\n",
      "\n",
      "\n",
      "[ 1.93293954  1.34856463  0.1392904  -0.22275588  0.47354025  0.95796702]\n"
     ]
    }
   ],
   "source": [
    "x = np.random.randn(6)\n",
    "print(x)\n",
    "y = np.random.randn(6)\n",
    "print(y)\n",
    "print('\\n')\n",
    "print(np.maximum(x, y))\n",
    "# Here, numpy.maximum computed the element-wise maximum of the elements in x and y."
   ]
  },
  {
   "cell_type": "markdown",
   "id": "41932da5",
   "metadata": {},
   "source": [
    "##### Other ufuncs: abs, square, sign (computes the sign of each element: 1(positive), 0(zero), -1(negative)), ceil\n",
    "\n",
    "##### add, subtract, multiply, divide, power(arr1, arr2) {arr1^ arr2}, mean"
   ]
  },
  {
   "cell_type": "markdown",
   "id": "a8df826b",
   "metadata": {},
   "source": [
    "#### 🏗️ Methods for boolean arrays"
   ]
  },
  {
   "cell_type": "code",
   "execution_count": null,
   "id": "3bef5288",
   "metadata": {},
   "outputs": [
    {
     "name": "stdout",
     "output_type": "stream",
     "text": [
      "True\n",
      "False\n"
     ]
    }
   ],
   "source": [
    "bools = np.array([False, False, True, False])\n",
    "print(bools.any()) # returns True if there is any truthy value in an iterable, else False\n",
    "print(bools.all()) # returns True if all values in an iterable are truthy."
   ]
  },
  {
   "cell_type": "markdown",
   "id": "fc2ac2a0",
   "metadata": {},
   "source": [
    "#### 📃 Flatten a matrix"
   ]
  },
  {
   "cell_type": "code",
   "execution_count": 299,
   "id": "93f53646",
   "metadata": {},
   "outputs": [
    {
     "name": "stdout",
     "output_type": "stream",
     "text": [
      "[ 0  1  2  3  4  5  6  7  8  9 10 11]\n"
     ]
    }
   ],
   "source": [
    "arr = np.arange(12).reshape((3, 4))\n",
    "arr = arr.ravel()\n",
    "print(arr)"
   ]
  }
 ],
 "metadata": {
  "kernelspec": {
   "display_name": "base",
   "language": "python",
   "name": "python3"
  },
  "language_info": {
   "codemirror_mode": {
    "name": "ipython",
    "version": 3
   },
   "file_extension": ".py",
   "mimetype": "text/x-python",
   "name": "python",
   "nbconvert_exporter": "python",
   "pygments_lexer": "ipython3",
   "version": "3.12.7"
  }
 },
 "nbformat": 4,
 "nbformat_minor": 5
}
